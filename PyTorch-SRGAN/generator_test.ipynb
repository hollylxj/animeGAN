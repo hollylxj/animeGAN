{
 "cells": [
  {
   "cell_type": "code",
   "execution_count": 331,
   "metadata": {},
   "outputs": [],
   "source": [
    "\n",
    "import sys\n",
    "import os\n",
    "from PIL import Image\n",
    "import torchvision.utils as vutils\n",
    "\n",
    "import torch\n",
    "import torch.nn as nn\n",
    "from torch.autograd import Variable\n",
    "\n",
    "import torchvision\n",
    "import torchvision.datasets as datasets\n",
    "import torchvision.transforms as transforms\n",
    "from torchvision.utils import save_image\n",
    "\n",
    "from models import Generator, Discriminator, FeatureExtractor\n",
    "\n",
    "\n",
    "try:\n",
    "    os.makedirs('output/high_res_fake')\n",
    "    os.makedirs('output/high_res_real')\n",
    "    os.makedirs('output/low_res')\n",
    "except OSError:\n",
    "    pass\n",
    "\n",
    "imageSize = 15\n",
    "upSampling = 2\n",
    "\n",
    "transform = transforms.Compose([#transforms.RandomCrop(imageSize*upSampling),\n",
    "                                #transforms.FiveCrop(15),\n",
    "                                transforms.ToTensor()])\n",
    "\n",
    "normalize = transforms.Normalize(mean = [0.485, 0.456, 0.406],\n",
    "                                std = [0.229, 0.224, 0.225])\n",
    "\n",
    "scale = transforms.Compose([transforms.ToPILImage(),\n",
    "#                             transforms.Resize(imageSize),\n",
    "                            transforms.ToTensor(),\n",
    "                            transforms.Normalize(mean = [0.485, 0.456, 0.406],\n",
    "                                                std = [0.229, 0.224, 0.225])\n",
    "                            ])\n",
    "\n",
    "# Equivalent to un-normalizing ImageNet (for correct visualization)\n",
    "unnormalize = transforms.Normalize(mean = [-2.118, -2.036, -1.804], std = [4.367, 4.464, 4.444])\n",
    "unscale = transforms.Compose([\n",
    "                            transforms.ToPILImage()\n",
    "                            \n",
    "                            ])\n"
   ]
  },
  {
   "cell_type": "code",
   "execution_count": 353,
   "metadata": {},
   "outputs": [
    {
     "data": {
      "image/png": "[encoded data removed]",
      "text/plain": [
       "<PIL.Image.Image image mode=RGB size=13x13 at 0x7F54EC032F60>"
      ]
     },
     "execution_count": 353,
     "metadata": {},
     "output_type": "execute_result"
    }
   ],
   "source": [
    "# img = Image.open(\"../DCgan/DCGANresults/fake_samples_epoch_079.png\")\n",
    "img = Image.open(\"../SN-GAN/log/fake_samples_epoch_005.png\")\n",
    "img = img.crop((35, 35, 48, 48))\n",
    "generator = Generator(16, upSampling)\n",
    "generator.load_state_dict(torch.load('checkpoints/generator_final.pth'))\n",
    "\n",
    "img"
   ]
  },
  {
   "cell_type": "code",
   "execution_count": 354,
   "metadata": {},
   "outputs": [],
   "source": [
    "def convert_img(img_tensor, nrow):\n",
    "\n",
    "    img_tensor = unnormalize(img_tensor)\n",
    "    im = unscale(img_tensor)\n",
    "\n",
    "    return im"
   ]
  },
  {
   "cell_type": "code",
   "execution_count": 355,
   "metadata": {},
   "outputs": [
    {
     "data": {
      "image/png": "[encoded data removed]",
      "text/plain": [
       "<PIL.Image.Image image mode=RGB size=13x13 at 0x7F54EC4F2FD0>"
      ]
     },
     "execution_count": 355,
     "metadata": {},
     "output_type": "execute_result"
    }
   ],
   "source": [
    "\n",
    "x = scale(transform(img))\n",
    "low_res = Variable(scale(transform(img))).unsqueeze(0)\n",
    "\n",
    "low_im = convert_img(x.data, 1)\n",
    "\n",
    "low_im\n"
   ]
  },
  {
   "cell_type": "code",
   "execution_count": 356,
   "metadata": {},
   "outputs": [
    {
     "data": {
      "image/png": "[encoded data removed]",
      "text/plain": [
       "<PIL.Image.Image image mode=RGB size=26x26 at 0x7F54EC4F2A58>"
      ]
     },
     "execution_count": 356,
     "metadata": {},
     "output_type": "execute_result"
    }
   ],
   "source": [
    "high_res_fake = generator(Variable(low_res)).squeeze()\n",
    "\n",
    "# unscale(high_res_fake)\n",
    "\n",
    "im = convert_img(high_res_fake.data, 1)\n",
    "\n",
    "im"
   ]
  },
  {
   "cell_type": "code",
   "execution_count": null,
   "metadata": {},
   "outputs": [],
   "source": []
  },
  {
   "cell_type": "code",
   "execution_count": null,
   "metadata": {},
   "outputs": [],
   "source": []
  }
 ],
 "metadata": {
  "kernelspec": {
   "display_name": "Python 3",
   "language": "python",
   "name": "python3"
  },
  "language_info": {
   "codemirror_mode": {
    "name": "ipython",
    "version": 3
   },
   "file_extension": ".py",
   "mimetype": "text/x-python",
   "name": "python",
   "nbconvert_exporter": "python",
   "pygments_lexer": "ipython3",
   "version": "3.6.4"
  }
 },
 "nbformat": 4,
 "nbformat_minor": 2
}
